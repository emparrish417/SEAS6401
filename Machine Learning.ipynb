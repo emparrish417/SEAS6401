{
 "cells": [
  {
   "cell_type": "code",
   "execution_count": 1,
   "metadata": {},
   "outputs": [],
   "source": [
    "%matplotlib inline"
   ]
  },
  {
   "cell_type": "code",
   "execution_count": 15,
   "metadata": {},
   "outputs": [],
   "source": [
    "from sklearn.model_selection import train_test_split, cross_val_score\n",
    "from sklearn.linear_model import LogisticRegression\n",
    "from sklearn.neighbors import KNeighborsClassifier\n",
    "from sklearn.preprocessing import StandardScaler\n",
    "from sklearn.naive_bayes import MultinomialNB, GaussianNB\n",
    "from sklearn.pipeline import make_pipeline\n",
    "from sklearn.model_selection import KFold\n",
    "from sklearn.model_selection import GridSearchCV\n",
    "from sklearn.calibration import CalibratedClassifierCV\n",
    "import sklearn.metrics as metrics\n",
    "from sklearn.metrics import accuracy_score, confusion_matrix\n",
    "from sklearn.metrics import precision_score, recall_score, precision_recall_curve, f1_score, fbeta_score\n",
    "from sklearn.metrics import roc_auc_score, roc_curve\n",
    "\n",
    "from sklearn.naive_bayes import GaussianNB\n",
    "from sklearn.svm import LinearSVC, SVC\n",
    "from sklearn.tree import DecisionTreeClassifier\n",
    "from sklearn.ensemble import RandomForestClassifier\n",
    "from sklearn.ensemble import (RandomForestClassifier, ExtraTreesClassifier, VotingClassifier, \n",
    "                              AdaBoostClassifier, BaggingRegressor)"
   ]
  },
  {
   "cell_type": "code",
   "execution_count": 9,
   "metadata": {},
   "outputs": [
    {
     "data": {
      "text/html": [
       "<div>\n",
       "<style scoped>\n",
       "    .dataframe tbody tr th:only-of-type {\n",
       "        vertical-align: middle;\n",
       "    }\n",
       "\n",
       "    .dataframe tbody tr th {\n",
       "        vertical-align: top;\n",
       "    }\n",
       "\n",
       "    .dataframe thead th {\n",
       "        text-align: right;\n",
       "    }\n",
       "</style>\n",
       "<table border=\"1\" class=\"dataframe\">\n",
       "  <thead>\n",
       "    <tr style=\"text-align: right;\">\n",
       "      <th></th>\n",
       "      <th>game_date</th>\n",
       "      <th>pitch_type</th>\n",
       "      <th>release_speed</th>\n",
       "      <th>zone</th>\n",
       "      <th>release_spin_rate</th>\n",
       "      <th>release_extension</th>\n",
       "      <th>height</th>\n",
       "      <th>weight</th>\n",
       "      <th>Player Name</th>\n",
       "      <th>Year</th>\n",
       "      <th>Injury</th>\n",
       "      <th>Elbow</th>\n",
       "      <th>TJ</th>\n",
       "      <th>Shoulder</th>\n",
       "      <th>TJ/Shoulder</th>\n",
       "      <th>Both</th>\n",
       "      <th>age</th>\n",
       "    </tr>\n",
       "  </thead>\n",
       "  <tbody>\n",
       "    <tr>\n",
       "      <td>0</td>\n",
       "      <td>8/23/15</td>\n",
       "      <td>FC</td>\n",
       "      <td>86.1</td>\n",
       "      <td>14</td>\n",
       "      <td>2167</td>\n",
       "      <td>6.044</td>\n",
       "      <td>74</td>\n",
       "      <td>200</td>\n",
       "      <td>Kendall Graveman</td>\n",
       "      <td>2015</td>\n",
       "      <td>Oblique</td>\n",
       "      <td>0</td>\n",
       "      <td>0</td>\n",
       "      <td>0</td>\n",
       "      <td>0</td>\n",
       "      <td>0</td>\n",
       "      <td>25</td>\n",
       "    </tr>\n",
       "    <tr>\n",
       "      <td>1</td>\n",
       "      <td>8/23/15</td>\n",
       "      <td>SI</td>\n",
       "      <td>90.4</td>\n",
       "      <td>9</td>\n",
       "      <td>2022</td>\n",
       "      <td>6.146</td>\n",
       "      <td>74</td>\n",
       "      <td>200</td>\n",
       "      <td>Kendall Graveman</td>\n",
       "      <td>2015</td>\n",
       "      <td>Oblique</td>\n",
       "      <td>0</td>\n",
       "      <td>0</td>\n",
       "      <td>0</td>\n",
       "      <td>0</td>\n",
       "      <td>0</td>\n",
       "      <td>25</td>\n",
       "    </tr>\n",
       "    <tr>\n",
       "      <td>2</td>\n",
       "      <td>8/23/15</td>\n",
       "      <td>FF</td>\n",
       "      <td>90.6</td>\n",
       "      <td>14</td>\n",
       "      <td>2264</td>\n",
       "      <td>6.574</td>\n",
       "      <td>74</td>\n",
       "      <td>200</td>\n",
       "      <td>Kendall Graveman</td>\n",
       "      <td>2015</td>\n",
       "      <td>Oblique</td>\n",
       "      <td>0</td>\n",
       "      <td>0</td>\n",
       "      <td>0</td>\n",
       "      <td>0</td>\n",
       "      <td>0</td>\n",
       "      <td>25</td>\n",
       "    </tr>\n",
       "    <tr>\n",
       "      <td>3</td>\n",
       "      <td>8/23/15</td>\n",
       "      <td>SI</td>\n",
       "      <td>89.9</td>\n",
       "      <td>14</td>\n",
       "      <td>2047</td>\n",
       "      <td>6.371</td>\n",
       "      <td>74</td>\n",
       "      <td>200</td>\n",
       "      <td>Kendall Graveman</td>\n",
       "      <td>2015</td>\n",
       "      <td>Oblique</td>\n",
       "      <td>0</td>\n",
       "      <td>0</td>\n",
       "      <td>0</td>\n",
       "      <td>0</td>\n",
       "      <td>0</td>\n",
       "      <td>25</td>\n",
       "    </tr>\n",
       "    <tr>\n",
       "      <td>4</td>\n",
       "      <td>8/23/15</td>\n",
       "      <td>FC</td>\n",
       "      <td>87.5</td>\n",
       "      <td>14</td>\n",
       "      <td>2108</td>\n",
       "      <td>6.485</td>\n",
       "      <td>74</td>\n",
       "      <td>200</td>\n",
       "      <td>Kendall Graveman</td>\n",
       "      <td>2015</td>\n",
       "      <td>Oblique</td>\n",
       "      <td>0</td>\n",
       "      <td>0</td>\n",
       "      <td>0</td>\n",
       "      <td>0</td>\n",
       "      <td>0</td>\n",
       "      <td>25</td>\n",
       "    </tr>\n",
       "  </tbody>\n",
       "</table>\n",
       "</div>"
      ],
      "text/plain": [
       "  game_date pitch_type  release_speed  zone  release_spin_rate  \\\n",
       "0   8/23/15         FC           86.1    14               2167   \n",
       "1   8/23/15         SI           90.4     9               2022   \n",
       "2   8/23/15         FF           90.6    14               2264   \n",
       "3   8/23/15         SI           89.9    14               2047   \n",
       "4   8/23/15         FC           87.5    14               2108   \n",
       "\n",
       "   release_extension  height  weight       Player Name  Year   Injury  Elbow  \\\n",
       "0              6.044      74     200  Kendall Graveman  2015  Oblique      0   \n",
       "1              6.146      74     200  Kendall Graveman  2015  Oblique      0   \n",
       "2              6.574      74     200  Kendall Graveman  2015  Oblique      0   \n",
       "3              6.371      74     200  Kendall Graveman  2015  Oblique      0   \n",
       "4              6.485      74     200  Kendall Graveman  2015  Oblique      0   \n",
       "\n",
       "   TJ  Shoulder  TJ/Shoulder  Both  age  \n",
       "0   0         0            0     0   25  \n",
       "1   0         0            0     0   25  \n",
       "2   0         0            0     0   25  \n",
       "3   0         0            0     0   25  \n",
       "4   0         0            0     0   25  "
      ]
     },
     "execution_count": 9,
     "metadata": {},
     "output_type": "execute_result"
    }
   ],
   "source": [
    "import pandas as pd\n",
    "\n",
    "# Read in the data with `read_csv()`\n",
    "indata = pd.read_csv('compiled_data_full.csv')\n",
    "\n",
    "indata.head()"
   ]
  },
  {
   "cell_type": "code",
   "execution_count": 33,
   "metadata": {},
   "outputs": [
    {
     "data": {
      "text/html": [
       "<div>\n",
       "<style scoped>\n",
       "    .dataframe tbody tr th:only-of-type {\n",
       "        vertical-align: middle;\n",
       "    }\n",
       "\n",
       "    .dataframe tbody tr th {\n",
       "        vertical-align: top;\n",
       "    }\n",
       "\n",
       "    .dataframe thead th {\n",
       "        text-align: right;\n",
       "    }\n",
       "</style>\n",
       "<table border=\"1\" class=\"dataframe\">\n",
       "  <thead>\n",
       "    <tr style=\"text-align: right;\">\n",
       "      <th></th>\n",
       "      <th>release_speed</th>\n",
       "      <th>zone</th>\n",
       "      <th>release_spin_rate</th>\n",
       "      <th>release_extension</th>\n",
       "      <th>height</th>\n",
       "      <th>weight</th>\n",
       "      <th>age</th>\n",
       "    </tr>\n",
       "  </thead>\n",
       "  <tbody>\n",
       "    <tr>\n",
       "      <td>release_speed</td>\n",
       "      <td>1.000000</td>\n",
       "      <td>-0.128312</td>\n",
       "      <td>0.041632</td>\n",
       "      <td>0.324312</td>\n",
       "      <td>0.008197</td>\n",
       "      <td>0.025832</td>\n",
       "      <td>-0.166390</td>\n",
       "    </tr>\n",
       "    <tr>\n",
       "      <td>zone</td>\n",
       "      <td>-0.128312</td>\n",
       "      <td>1.000000</td>\n",
       "      <td>-0.031046</td>\n",
       "      <td>-0.034712</td>\n",
       "      <td>-0.015821</td>\n",
       "      <td>-0.008189</td>\n",
       "      <td>0.006499</td>\n",
       "    </tr>\n",
       "    <tr>\n",
       "      <td>release_spin_rate</td>\n",
       "      <td>0.041632</td>\n",
       "      <td>-0.031046</td>\n",
       "      <td>1.000000</td>\n",
       "      <td>-0.122084</td>\n",
       "      <td>-0.007292</td>\n",
       "      <td>-0.081680</td>\n",
       "      <td>0.018762</td>\n",
       "    </tr>\n",
       "    <tr>\n",
       "      <td>release_extension</td>\n",
       "      <td>0.324312</td>\n",
       "      <td>-0.034712</td>\n",
       "      <td>-0.122084</td>\n",
       "      <td>1.000000</td>\n",
       "      <td>0.280342</td>\n",
       "      <td>0.160573</td>\n",
       "      <td>-0.091169</td>\n",
       "    </tr>\n",
       "    <tr>\n",
       "      <td>height</td>\n",
       "      <td>0.008197</td>\n",
       "      <td>-0.015821</td>\n",
       "      <td>-0.007292</td>\n",
       "      <td>0.280342</td>\n",
       "      <td>1.000000</td>\n",
       "      <td>0.467314</td>\n",
       "      <td>0.058819</td>\n",
       "    </tr>\n",
       "    <tr>\n",
       "      <td>weight</td>\n",
       "      <td>0.025832</td>\n",
       "      <td>-0.008189</td>\n",
       "      <td>-0.081680</td>\n",
       "      <td>0.160573</td>\n",
       "      <td>0.467314</td>\n",
       "      <td>1.000000</td>\n",
       "      <td>0.263865</td>\n",
       "    </tr>\n",
       "    <tr>\n",
       "      <td>age</td>\n",
       "      <td>-0.166390</td>\n",
       "      <td>0.006499</td>\n",
       "      <td>0.018762</td>\n",
       "      <td>-0.091169</td>\n",
       "      <td>0.058819</td>\n",
       "      <td>0.263865</td>\n",
       "      <td>1.000000</td>\n",
       "    </tr>\n",
       "  </tbody>\n",
       "</table>\n",
       "</div>"
      ],
      "text/plain": [
       "                   release_speed      zone  release_spin_rate  \\\n",
       "release_speed           1.000000 -0.128312           0.041632   \n",
       "zone                   -0.128312  1.000000          -0.031046   \n",
       "release_spin_rate       0.041632 -0.031046           1.000000   \n",
       "release_extension       0.324312 -0.034712          -0.122084   \n",
       "height                  0.008197 -0.015821          -0.007292   \n",
       "weight                  0.025832 -0.008189          -0.081680   \n",
       "age                    -0.166390  0.006499           0.018762   \n",
       "\n",
       "                   release_extension    height    weight       age  \n",
       "release_speed               0.324312  0.008197  0.025832 -0.166390  \n",
       "zone                       -0.034712 -0.015821 -0.008189  0.006499  \n",
       "release_spin_rate          -0.122084 -0.007292 -0.081680  0.018762  \n",
       "release_extension           1.000000  0.280342  0.160573 -0.091169  \n",
       "height                      0.280342  1.000000  0.467314  0.058819  \n",
       "weight                      0.160573  0.467314  1.000000  0.263865  \n",
       "age                        -0.091169  0.058819  0.263865  1.000000  "
      ]
     },
     "execution_count": 33,
     "metadata": {},
     "output_type": "execute_result"
    }
   ],
   "source": [
    "import seaborn as sns\n",
    "\n",
    "# cols = [col for col in indata.columns if col not in ['Injury Category','Team','Year','Injury Num','Most Pitched','Injury','Injury Shortened','Injury Shortened.1','Tommy John','Type','Player Name','TJ Num',]]\n",
    "# data = indata[cols]\n",
    "# #assigning the Oppurtunity Result column as target\n",
    "# target = indata['TJ Num']\n",
    "# data.head(n=2)\n",
    "\n",
    "#cols = [col for col in indata.columns if col not in ['pitch_type','Player Name','Year','Injury','game_date','Unnamed','Elbow','TJ','Shoulder']]\n",
    "cols = [col for col in indata.columns if col in ['zone','release_speed','release_extension','release_spin_rate','height','weight','age']]\n",
    "data = indata[cols]\n",
    "#assigning the Oppurtunity Result column as target\n",
    "target = indata['Both']\n",
    "data.head(n=2)\n",
    "\n",
    "data.corr()\n",
    "\n",
    "# data['pitch_type'].unique()"
   ]
  },
  {
   "cell_type": "code",
   "execution_count": 34,
   "metadata": {},
   "outputs": [],
   "source": [
    "#import the necessary module\n",
    "from sklearn.model_selection import train_test_split\n",
    "#split data set into train and test sets\n",
    "data_train, data_test, target_train, target_test = train_test_split(data,target, test_size = 0.30, random_state = 10)"
   ]
  },
  {
   "cell_type": "code",
   "execution_count": 35,
   "metadata": {},
   "outputs": [
    {
     "name": "stdout",
     "output_type": "stream",
     "text": [
      "Naive-Bayes accuracy :  0.6390642763445562\n",
      "Precision: 0.4863,   Recall: 0.1298\n",
      "ROC AUC score: 0.5266 \n"
     ]
    }
   ],
   "source": [
    "# import the necessary module\n",
    "from sklearn.naive_bayes import GaussianNB\n",
    "from sklearn.metrics import accuracy_score\n",
    "#create an object of the type GaussianNB\n",
    "gnb = GaussianNB()\n",
    "#train the algorithm on training data and predict using the testing data\n",
    "pred = gnb.fit(data_train, target_train).predict(data_test)\n",
    "#print(pred.tolist())\n",
    "#print the accuracy score of the model\n",
    "print(\"Naive-Bayes accuracy : \",accuracy_score(target_test, pred))\n",
    "print(\"Precision: {:6.4f},   Recall: {:6.4f}\".format(precision_score(target_test, pred), recall_score(target_test, pred)))\n",
    "print(\"ROC AUC score: {:6.4f} \".format(roc_auc_score(target_test, pred)))"
   ]
  },
  {
   "cell_type": "code",
   "execution_count": 36,
   "metadata": {},
   "outputs": [
    {
     "name": "stdout",
     "output_type": "stream",
     "text": [
      "LinearSVC accuracy :  0.6416790555312637\n",
      "Precision: 0.0000,   Recall: 0.0000\n",
      "ROC AUC score: 0.5000 \n"
     ]
    },
    {
     "name": "stderr",
     "output_type": "stream",
     "text": [
      "/Library/Frameworks/Python.framework/Versions/3.7/lib/python3.7/site-packages/sklearn/svm/base.py:929: ConvergenceWarning: Liblinear failed to converge, increase the number of iterations.\n",
      "  \"the number of iterations.\", ConvergenceWarning)\n",
      "/Library/Frameworks/Python.framework/Versions/3.7/lib/python3.7/site-packages/sklearn/metrics/classification.py:1437: UndefinedMetricWarning: Precision is ill-defined and being set to 0.0 due to no predicted samples.\n",
      "  'precision', 'predicted', average, warn_for)\n"
     ]
    }
   ],
   "source": [
    "#import the necessary modules\n",
    "from sklearn.svm import LinearSVC\n",
    "from sklearn.metrics import accuracy_score\n",
    "#create an object of type LinearSVC\n",
    "svc_model = LinearSVC(random_state=0,max_iter=1000)\n",
    "#train the algorithm on training data and predict using the testing data\n",
    "pred = svc_model.fit(data_train, target_train).predict(data_test)\n",
    "#print the accuracy score of the model\n",
    "print(\"LinearSVC accuracy : \",accuracy_score(target_test, pred, normalize = True))\n",
    "print(\"Precision: {:6.4f},   Recall: {:6.4f}\".format(precision_score(target_test, pred), recall_score(target_test, pred)))\n",
    "print(\"ROC AUC score: {:6.4f} \".format(roc_auc_score(target_test, pred)))"
   ]
  },
  {
   "cell_type": "code",
   "execution_count": 37,
   "metadata": {},
   "outputs": [
    {
     "name": "stdout",
     "output_type": "stream",
     "text": [
      "KNeighbors accuracy score :  0.7853825972890249\n",
      "Precision: 0.7232,   Recall: 0.6497\n",
      "ROC AUC score: 0.7554 \n"
     ]
    }
   ],
   "source": [
    "#import necessary modules\n",
    "from sklearn.neighbors import KNeighborsClassifier\n",
    "from sklearn.metrics import accuracy_score\n",
    "#create object of the lassifier\n",
    "neigh = KNeighborsClassifier(n_neighbors=5)\n",
    "#Train the algorithm\n",
    "neigh.fit(data_train, target_train)\n",
    "# predict the response\n",
    "pred = neigh.predict(data_test)\n",
    "# evaluate accuracy\n",
    "print (\"KNeighbors accuracy score : \",accuracy_score(target_test, pred))\n",
    "print(\"Precision: {:6.4f},   Recall: {:6.4f}\".format(precision_score(target_test, pred), recall_score(target_test, pred)))\n",
    "print(\"ROC AUC score: {:6.4f} \".format(roc_auc_score(target_test, pred)))"
   ]
  },
  {
   "cell_type": "code",
   "execution_count": 38,
   "metadata": {},
   "outputs": [
    {
     "name": "stderr",
     "output_type": "stream",
     "text": [
      "/Library/Frameworks/Python.framework/Versions/3.7/lib/python3.7/site-packages/sklearn/ensemble/forest.py:245: FutureWarning: The default value of n_estimators will change from 10 in version 0.20 to 100 in 0.22.\n",
      "  \"10 in version 0.20 to 100 in 0.22.\", FutureWarning)\n"
     ]
    },
    {
     "name": "stdout",
     "output_type": "stream",
     "text": [
      "0.9804940970703979\n",
      "0.9725140325691154\n",
      "KNeighbors accuracy score :  0.9804940970703979\n",
      "Precision: 0.9822,   Recall: 0.9630\n",
      "ROC AUC score: 0.9766 \n"
     ]
    }
   ],
   "source": [
    "randomforest = RandomForestClassifier()\n",
    "rand = randomforest.fit(data_train, target_train)\n",
    "\n",
    "pred = rand.predict(data_test)\n",
    "\n",
    "print(rand.score(data_test,target_test))\n",
    "\n",
    "y_predict = rand.predict(data_test)\n",
    "print(f1_score(target_test, y_predict))\n",
    "\n",
    "print (\"KNeighbors accuracy score : \",accuracy_score(target_test, pred))\n",
    "print(\"Precision: {:6.4f},   Recall: {:6.4f}\".format(precision_score(target_test, pred), recall_score(target_test, pred)))\n",
    "print(\"ROC AUC score: {:6.4f} \".format(roc_auc_score(target_test, pred)))"
   ]
  },
  {
   "cell_type": "code",
   "execution_count": 39,
   "metadata": {},
   "outputs": [
    {
     "data": {
      "image/png": "[encoded data removed]",
      "text/plain": [
       "<Figure size 576x396 with 2 Axes>"
      ]
     },
     "metadata": {},
     "output_type": "display_data"
    }
   ],
   "source": [
    "from yellowbrick.classifier import ClassificationReport\n",
    "# Instantiate the classification model and visualizer\n",
    "visualizer = ClassificationReport(gnb, classes=['Not Elbow/Shoulder Injury','Elbow/Shoulder Injury'])\n",
    "visualizer.fit(data_train, target_train) # Fit the training data to the visualizer\n",
    "visualizer.score(data_test, target_test) # Evaluate the model on the test data\n",
    "g = visualizer.poof() # Draw/show/poof the data"
   ]
  },
  {
   "cell_type": "code",
   "execution_count": 40,
   "metadata": {},
   "outputs": [
    {
     "name": "stderr",
     "output_type": "stream",
     "text": [
      "/Library/Frameworks/Python.framework/Versions/3.7/lib/python3.7/site-packages/sklearn/metrics/classification.py:1437: UndefinedMetricWarning: Precision and F-score are ill-defined and being set to 0.0 in labels with no predicted samples.\n",
      "  'precision', 'predicted', average, warn_for)\n"
     ]
    },
    {
     "data": {
      "image/png": "[encoded data removed]",
      "text/plain": [
       "<Figure size 576x396 with 2 Axes>"
      ]
     },
     "metadata": {},
     "output_type": "display_data"
    }
   ],
   "source": [
    "from yellowbrick.classifier import ClassificationReport\n",
    "# Instantiate the classification model and visualizer\n",
    "visualizer = ClassificationReport(svc_model, classes=['Not Elbow/Shoulder Injury','Elbow/Shoulder Injury'])\n",
    "visualizer.fit(data_train, target_train) # Fit the training data to the visualizer\n",
    "visualizer.score(data_test, target_test) # Evaluate the model on the test data\n",
    "g = visualizer.poof() # Draw/show/poof the data"
   ]
  },
  {
   "cell_type": "code",
   "execution_count": 42,
   "metadata": {},
   "outputs": [
    {
     "data": {
      "image/png": "[encoded data removed]",
      "text/plain": [
       "<Figure size 576x396 with 2 Axes>"
      ]
     },
     "metadata": {},
     "output_type": "display_data"
    }
   ],
   "source": [
    "from yellowbrick.classifier import ClassificationReport\n",
    "# Instantiate the classification model and visualizer\n",
    "visualizer = ClassificationReport(neigh, classes=['Not Elbow/Shoulder Injury','Elbow/Shoulder Injury'])\n",
    "visualizer.fit(data_train, target_train) # Fit the training data to the visualizer\n",
    "visualizer.score(data_test, target_test) # Evaluate the model on the test data\n",
    "g = visualizer.poof() # Draw/show/poof the data"
   ]
  },
  {
   "cell_type": "code",
   "execution_count": 20,
   "metadata": {},
   "outputs": [
    {
     "data": {
      "image/png": "[encoded data removed]",
      "text/plain": [
       "<Figure size 576x396 with 2 Axes>"
      ]
     },
     "metadata": {},
     "output_type": "display_data"
    }
   ],
   "source": [
    "from yellowbrick.classifier import ClassificationReport\n",
    "# Instantiate the classification model and visualizer\n",
    "visualizer = ClassificationReport(rand, classes=['Not Elbow/Shoulder Injury','Elbow/Shoulder Injury'])\n",
    "visualizer.fit(data_train, target_train) # Fit the training data to the visualizer\n",
    "visualizer.score(data_test, target_test) # Evaluate the model on the test data\n",
    "g = visualizer.poof() # Draw/show/poof the data"
   ]
  },
  {
   "cell_type": "code",
   "execution_count": null,
   "metadata": {},
   "outputs": [],
   "source": []
  }
 ],
 "metadata": {
  "kernelspec": {
   "display_name": "Python 3",
   "language": "python",
   "name": "python3"
  },
  "language_info": {
   "codemirror_mode": {
    "name": "ipython",
    "version": 3
   },
   "file_extension": ".py",
   "mimetype": "text/x-python",
   "name": "python",
   "nbconvert_exporter": "python",
   "pygments_lexer": "ipython3",
   "version": "3.7.4"
  }
 },
 "nbformat": 4,
 "nbformat_minor": 2
}
